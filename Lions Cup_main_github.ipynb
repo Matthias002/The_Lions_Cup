{
 "cells": [
  {
   "cell_type": "markdown",
   "metadata": {},
   "source": [
    "# Preparation"
   ]
  },
  {
   "cell_type": "code",
   "execution_count": null,
   "metadata": {
    "scrolled": true
   },
   "outputs": [],
   "source": [
    "import pandas as pd\n",
    "import Lions_Cup_Functions as LC\n",
    "import os\n",
    "\n",
    "session, saison, spieltag = LC.ezm.login()\n",
    "\n",
    "LC.session = session"
   ]
  },
  {
   "cell_type": "markdown",
   "metadata": {},
   "source": [
    "# Teamnamen ändern"
   ]
  },
  {
   "cell_type": "code",
   "execution_count": null,
   "metadata": {},
   "outputs": [],
   "source": [
    "# df_Ergebnisse = pd.read_pickle(LC.lion_file_path+'Ergebnisse Spieltag 0')\n",
    "\n",
    "# to_replace = 'Ventspils HC'\n",
    "# replace_by = 'Saporischschja Atomics'\n",
    "\n",
    "# df_Ergebnisse[['Heimteam', 'Auswärtsteam']] =\\\n",
    "# df_Ergebnisse[['Heimteam', 'Auswärtsteam']].replace(to_replace=to_replace, value=replace_by)\n",
    "\n",
    "# LC.schedule_to_excel(df_Ergebnisse)\n",
    "# LC.update_league_table(liga=3, df_Ergebnisse=df_Ergebnisse)\n",
    "# LC.tables_to_excel()\n",
    "# LC.create_images()\n",
    "\n",
    "# df_Ergebnisse.to_pickle(LC.lion_file_path+'Ergebnisse Spieltag 0')"
   ]
  },
  {
   "cell_type": "markdown",
   "metadata": {},
   "source": [
    "# Vorbereitung neue Saison"
   ]
  },
  {
   "cell_type": "code",
   "execution_count": null,
   "metadata": {},
   "outputs": [],
   "source": [
    "# LC.Spieltag(0, df_Ergebnisse=None)\n",
    "\n",
    "# team = 'Don Camillo Yellow Hunter'\n",
    "# df = LC.all_away(team)\n",
    "# df.loc[df.Liga==2]\n",
    "# team in df.Heimteam.unique()\n",
    "\n",
    "# df.loc[df.Heimteam=='T Rex Swerdlowsk'].Spieltag.count()"
   ]
  },
  {
   "cell_type": "markdown",
   "metadata": {},
   "source": [
    "# Ergebnisse Spieltag"
   ]
  },
  {
   "cell_type": "code",
   "execution_count": null,
   "metadata": {},
   "outputs": [],
   "source": [
    "# df = pd.read_pickle('C:\\Daten\\Projekte\\Eiszeit_Manager\\Lions_Cup\\Ablage\\Spieler Stats')\n",
    "# df = df.iloc[0:0]\n",
    "# df.to_pickle('C:\\Daten\\Projekte\\Eiszeit_Manager\\Lions_Cup\\Ablage\\Spieler Stats')\n",
    "# df.Spieltag.unique()"
   ]
  },
  {
   "cell_type": "code",
   "execution_count": null,
   "metadata": {
    "scrolled": false
   },
   "outputs": [],
   "source": [
    "# for i in range(1,6):\n",
    "#     LC.Spieltag(i, df_Ergebnisse=None)\n",
    "\n",
    "LC.Spieltag(7, df_Ergebnisse=None)\n",
    "\n",
    "# df = pd.read_pickle(LC.lion_file_path+'Spieler Stats')\n",
    "# df.to_csv(LC.lion_file_path+'Spieler Stats.csv')\n",
    "\n",
    "###  NACH ERGEBNISKORREKTUR!!! ###\n",
    "# df_Ergebnisse = pd.read_pickle(LC.lion_file_path+'Ergebnisse Spieltag XXX') # ersetzte XXX durch Spieltag\n",
    "# LC.Spieltag(spieltag=XXX, df_Ergebnisse=df_Ergebnisse)"
   ]
  },
  {
   "cell_type": "markdown",
   "metadata": {},
   "source": [
    "# Ergebniskorrektur"
   ]
  },
  {
   "cell_type": "code",
   "execution_count": null,
   "metadata": {},
   "outputs": [],
   "source": [
    "# spieltag = XXX\n",
    "# df_Ergebnisse = pd.read_pickle(LC.lion_file_path+'Ergebnisse Spieltag ' + spieltag)\n",
    "# df_Ergebnisse[(df_Ergebnisse.Liga==2) & (df_Ergebnisse.Spieltag==spieltag)]\n",
    "# df_Ergebnisse.columns"
   ]
  },
  {
   "cell_type": "code",
   "execution_count": null,
   "metadata": {},
   "outputs": [],
   "source": [
    "df_Ergebnisse = pd.read_pickle(LC.lion_file_path+'Ergebnisse Spieltag 1') # ersetzte XXX durch Spieltag\n",
    "\n",
    "spielnummer = 31\n",
    "spieltag = int(df_Ergebnisse.loc[df_Ergebnisse.index==spielnummer]['Spieltag'])\n",
    "\n",
    "sieg = 'a' # wert 'h' für heimteam und 'a' für Auswärtsteam\n",
    "\n",
    "columns = ['Theim', 'Tausw', 'Sheim', 'Nheim','Sausw', 'Nausw', 'Pheim', 'Pausw', 'Spiele']\n",
    "\n",
    "if sieg == 'h':\n",
    "    df_Ergebnisse.loc[spielnummer, columns] = 5,0,1,0,0,1,3,0,1\n",
    "else:\n",
    "    df_Ergebnisse.loc[spielnummer, columns] = 0,5,0,1,1,0,0,3,1\n",
    "    \n",
    "df_Ergebnisse[columns] = df_Ergebnisse[columns].astype(int)\n",
    "df_Ergebnisse.to_pickle(LC.lion_file_path+'Ergebnisse Spieltag ' + str(spieltag))"
   ]
  },
  {
   "cell_type": "markdown",
   "metadata": {},
   "source": [
    "# Hall of Fame"
   ]
  },
  {
   "cell_type": "code",
   "execution_count": null,
   "metadata": {},
   "outputs": [],
   "source": [
    "name = 'Spieler Stats'\n",
    "\n",
    "df = pd.DataFrame()\n",
    "\n",
    "for root, dirs, files in os.walk(\"Archiv\\\\\", topdown=False):\n",
    "    file = os.path.join(root, name)\n",
    "    if os.path.isfile(file):\n",
    "        season = root.split('\\\\')[-1]\n",
    "        print(season)\n",
    "        temp = pd.read_pickle(file)\n",
    "        temp['Saison'] = season\n",
    "        df = pd.concat([df, temp])\n",
    "df.shape\n",
    "df.to_pickle(LC.lion_file_path+'hall_of_fame')"
   ]
  },
  {
   "cell_type": "code",
   "execution_count": null,
   "metadata": {},
   "outputs": [],
   "source": [
    "LC.hall_of_fame(min_games=14, goalies=20, attcker=50, defender=50, penalties=50)"
   ]
  }
 ],
 "metadata": {
  "interpreter": {
   "hash": "c02d55eeadaec713d46381219831d19178599f09b4cb6afac33d066b9e5532a1"
  },
  "kernelspec": {
   "display_name": "Python [conda env:ezm]",
   "language": "python",
   "name": "python3"
  },
  "language_info": {
   "codemirror_mode": {
    "name": "ipython",
    "version": 3
   },
   "file_extension": ".py",
   "mimetype": "text/x-python",
   "name": "python",
   "nbconvert_exporter": "python",
   "pygments_lexer": "ipython3",
   "version": "3.8.10"
  }
 },
 "nbformat": 4,
 "nbformat_minor": 4
}
